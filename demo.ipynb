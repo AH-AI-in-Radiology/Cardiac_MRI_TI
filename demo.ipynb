{
 "cells": [
  {
   "cell_type": "code",
   "execution_count": null,
   "id": "17d72058-1673-43ef-88e6-8fdfcd72649f",
   "metadata": {},
   "outputs": [],
   "source": [
    "import torch\n",
    "from monai.transforms import Resize\n",
    "from models import InversionTimeLSTM, FeatureExtractor\n",
    "from utils import load_parameters\n",
    "import json\n",
    "\n",
    "device = torch.device(\"cuda\" if torch.cuda.is_available() else \"cpu\")\n",
    "device"
   ]
  },
  {
   "cell_type": "code",
   "execution_count": null,
   "id": "75e40605-a84a-4655-b59c-96bccd2456c3",
   "metadata": {},
   "outputs": [],
   "source": [
    "def load_model(p):\n",
    "    with open(f'{p}/config.json', 'r') as f:\n",
    "        config = json.load(f)\n",
    "    \n",
    "    feature_extractor = FeatureExtractor(\n",
    "        config['name'], dropout=config['dropout'][0], dim_spatial=config['dim_spatial'], pooling=config['pooling'], device=device\n",
    "    )\n",
    "    model = InversionTimeLSTM(\n",
    "        feature_extractor, num_layers=config['num_layers'], hidden_size=config['hidden_size'], dropout=config['dropout'][1],\n",
    "        input_as_window=False\n",
    "    ).to(device)\n",
    "    \n",
    "    load_parameters(model, optimiser=None, directory=p, name=None, feature_extractor_only=False, load_index=-1)\n",
    "    \n",
    "    return model, config"
   ]
  },
  {
   "cell_type": "code",
   "execution_count": null,
   "id": "efe56e19-de8b-43f1-afc0-f3f8d73e307f",
   "metadata": {},
   "outputs": [],
   "source": [
    "model, config = load_model('./model')"
   ]
  },
  {
   "cell_type": "code",
   "execution_count": null,
   "id": "4a8db032-4106-46e3-bb10-db39dc4f33f5",
   "metadata": {},
   "outputs": [],
   "source": [
    "# Retrieve image array x, then resize to 256 by 256\n",
    "x = ... # (frame, M, N)\n",
    "x = Resize((256, 256))(x)"
   ]
  },
  {
   "cell_type": "code",
   "execution_count": null,
   "id": "476d3068-c025-412a-8991-31369af24289",
   "metadata": {},
   "outputs": [],
   "source": [
    "# Infer \n",
    "model.infer(x, standardise=True)"
   ]
  },
  {
   "cell_type": "code",
   "execution_count": null,
   "id": "22a34f06-5d93-431d-8424-dedf60eaabc6",
   "metadata": {},
   "outputs": [],
   "source": []
  }
 ],
 "metadata": {
  "kernelspec": {
   "display_name": "Python 3 (ipykernel)",
   "language": "python",
   "name": "python3"
  },
  "language_info": {
   "codemirror_mode": {
    "name": "ipython",
    "version": 3
   },
   "file_extension": ".py",
   "mimetype": "text/x-python",
   "name": "python",
   "nbconvert_exporter": "python",
   "pygments_lexer": "ipython3",
   "version": "3.9.6"
  }
 },
 "nbformat": 4,
 "nbformat_minor": 5
}
